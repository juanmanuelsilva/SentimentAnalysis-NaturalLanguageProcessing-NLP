{
 "cells": [
  {
   "cell_type": "code",
   "execution_count": 2,
   "id": "2565e6b8-5942-4948-abd9-38c7cbd9905a",
   "metadata": {},
   "outputs": [
    {
     "name": "stdout",
     "output_type": "stream",
     "text": [
      "Collecting pandas\n",
      "  Downloading pandas-2.2.3-cp311-cp311-win_amd64.whl.metadata (19 kB)\n",
      "Requirement already satisfied: numpy>=1.23.2 in c:\\users\\usuario\\anaconda3\\envs\\sentiment_env\\lib\\site-packages (from pandas) (1.24.3)\n",
      "Requirement already satisfied: python-dateutil>=2.8.2 in c:\\users\\usuario\\anaconda3\\envs\\sentiment_env\\lib\\site-packages (from pandas) (2.9.0.post0)\n",
      "Requirement already satisfied: pytz>=2020.1 in c:\\users\\usuario\\anaconda3\\envs\\sentiment_env\\lib\\site-packages (from pandas) (2025.1)\n",
      "Collecting tzdata>=2022.7 (from pandas)\n",
      "  Downloading tzdata-2025.1-py2.py3-none-any.whl.metadata (1.4 kB)\n",
      "Requirement already satisfied: six>=1.5 in c:\\users\\usuario\\anaconda3\\envs\\sentiment_env\\lib\\site-packages (from python-dateutil>=2.8.2->pandas) (1.17.0)\n",
      "Downloading pandas-2.2.3-cp311-cp311-win_amd64.whl (11.6 MB)\n",
      "   ---------------------------------------- 0.0/11.6 MB ? eta -:--:--\n",
      "   ------------------------- -------------- 7.3/11.6 MB 41.2 MB/s eta 0:00:01\n",
      "   ---------------------------------------- 11.6/11.6 MB 31.5 MB/s eta 0:00:00\n",
      "Downloading tzdata-2025.1-py2.py3-none-any.whl (346 kB)\n",
      "Installing collected packages: tzdata, pandas\n",
      "Successfully installed pandas-2.2.3 tzdata-2025.1\n"
     ]
    }
   ],
   "source": [
    "################ REINICIAR AQUI ###################\n",
    "# !pip install pandas"
   ]
  },
  {
   "cell_type": "code",
   "execution_count": 43,
   "id": "1802fb32-ed0e-4afb-976d-119d05c57a51",
   "metadata": {},
   "outputs": [],
   "source": [
    "import os"
   ]
  },
  {
   "cell_type": "code",
   "execution_count": 1,
   "id": "dfb58da3-ab5e-42fd-be03-82979559aa01",
   "metadata": {},
   "outputs": [],
   "source": [
    "import pandas as pd"
   ]
  },
  {
   "cell_type": "code",
   "execution_count": 3,
   "id": "fb73c5f8-329f-4817-9fe8-6d93470a4423",
   "metadata": {},
   "outputs": [
    {
     "name": "stdout",
     "output_type": "stream",
     "text": [
      "Total de registros en la base: 41056\n"
     ]
    }
   ],
   "source": [
    "# Cargar el archivo CSV\n",
    "df_final_reviews = pd.read_csv(\"final_reviews.csv\", quotechar='\"', delimiter=\",\")\n",
    "\n",
    "print(f\"Total de registros en la base: {df_final_reviews.shape[0]}\")"
   ]
  },
  {
   "cell_type": "code",
   "execution_count": 5,
   "id": "5a17204b-7cc2-4ed8-bd5a-754cb5c8f8c0",
   "metadata": {},
   "outputs": [
    {
     "name": "stdout",
     "output_type": "stream",
     "text": [
      "  Hotel_Name  Review Id User Location User Is Verified  Rating Published Date  \\\n",
      "0  100 luxry  979285756           NaN               No       4     2024-11-09   \n",
      "1  100 luxry  906758315           NaN               No       5     2023-07-30   \n",
      "2  100 luxry  906479966           NaN               No       5     2023-07-29   \n",
      "3  100 luxry  895423330           NaN               No       3     2023-06-16   \n",
      "4  100 luxry  890106560  Barranquilla               No       5     2023-05-12   \n",
      "\n",
      "  Language                                       Review Title  \\\n",
      "0       es  A great place to share a spectacular night wit...   \n",
      "1       es       Incredible Spanish dinner, super recommended   \n",
      "2       es                                  Excellent service   \n",
      "3       es                        Good Hotel for Short Travel   \n",
      "4       es                                 Super recommended.   \n",
      "\n",
      "                                         Review Text  \n",
      "0  a very comfortable place;spacious;clean.Excell...  \n",
      "1  The room was decorated very beautiful from adm...  \n",
      "2  The bed is very comfortable;suitable for sleep...  \n",
      "3  The attention of all those who work at the hot...  \n",
      "4  spectacular attention.The first rooms.very com...  \n"
     ]
    }
   ],
   "source": [
    "print(df_final_reviews.head())"
   ]
  },
  {
   "cell_type": "code",
   "execution_count": 7,
   "id": "ceddfe90-5582-4374-83d8-86090339ff3a",
   "metadata": {},
   "outputs": [
    {
     "name": "stdout",
     "output_type": "stream",
     "text": [
      "  Hotel_Name  Review Id User Location User Is Verified  Rating Published Date  \\\n",
      "0  100 luxry  979285756           NaN               No       4     2024-11-09   \n",
      "1  100 luxry  906758315           NaN               No       5     2023-07-30   \n",
      "2  100 luxry  906479966           NaN               No       5     2023-07-29   \n",
      "3  100 luxry  895423330           NaN               No       3     2023-06-16   \n",
      "4  100 luxry  890106560  Barranquilla               No       5     2023-05-12   \n",
      "\n",
      "  Language                                       Review Title  \\\n",
      "0       es  a great place to share a spectacular night wit...   \n",
      "1       es       incredible spanish dinner, super recommended   \n",
      "2       es                                  excellent service   \n",
      "3       es                        good hotel for short travel   \n",
      "4       es                                 super recommended.   \n",
      "\n",
      "                                         Review Text  \n",
      "0  a very comfortable place;spacious;clean.excell...  \n",
      "1  the room was decorated very beautiful from adm...  \n",
      "2  the bed is very comfortable;suitable for sleep...  \n",
      "3  the attention of all those who work at the hot...  \n",
      "4  spectacular attention.the first rooms.very com...  \n"
     ]
    }
   ],
   "source": [
    "# convertir texto a minúsculas\n",
    "import re\n",
    "\n",
    "# Función para convertir texto a minúsculas [y eliminar caracteres especiales]\n",
    "def texto_a_minusculas(texto):\n",
    "    # Asegurarse de que el valor sea una cadena de texto\n",
    "    if isinstance(texto, str):\n",
    "        # Convertir a minúsculas\n",
    "        texto = texto.lower()\n",
    "        # Eliminar caracteres especiales, manteniendo solo letras y números\n",
    "        # texto = re.sub(r'[^a-z0-9\\s]', '', texto)\n",
    "    return texto\n",
    "\n",
    "# Aplicar la función de texto_a_minusculas a las columnas de texto\n",
    "df_final_reviews[\"Hotel_Name\"] = df_final_reviews[\"Hotel_Name\"].apply(texto_a_minusculas)\n",
    "df_final_reviews[\"Review Title\"] = df_final_reviews[\"Review Title\"].apply(texto_a_minusculas)\n",
    "df_final_reviews[\"Review Text\"] = df_final_reviews[\"Review Text\"].apply(texto_a_minusculas)\n",
    "df_final_reviews[\"Language\"] = df_final_reviews[\"Language\"].apply(texto_a_minusculas)\n",
    "\n",
    "# Verificar los resultados\n",
    "print(df_final_reviews.head())"
   ]
  },
  {
   "cell_type": "code",
   "execution_count": 11,
   "id": "44bb7de9-aa11-4a1b-89bb-e47f8c707151",
   "metadata": {},
   "outputs": [
    {
     "name": "stdout",
     "output_type": "stream",
     "text": [
      "Requirement already satisfied: nltk in c:\\users\\usuario\\anaconda3\\lib\\site-packages (3.9.1)\n",
      "Requirement already satisfied: click in c:\\users\\usuario\\anaconda3\\lib\\site-packages (from nltk) (8.1.7)\n",
      "Requirement already satisfied: joblib in c:\\users\\usuario\\anaconda3\\lib\\site-packages (from nltk) (1.4.2)\n",
      "Requirement already satisfied: regex>=2021.8.3 in c:\\users\\usuario\\anaconda3\\lib\\site-packages (from nltk) (2024.11.6)\n",
      "Requirement already satisfied: tqdm in c:\\users\\usuario\\anaconda3\\lib\\site-packages (from nltk) (4.67.0)\n",
      "Requirement already satisfied: colorama in c:\\users\\usuario\\anaconda3\\lib\\site-packages (from click->nltk) (0.4.6)\n"
     ]
    }
   ],
   "source": [
    "#!pip install nltk"
   ]
  },
  {
   "cell_type": "code",
   "execution_count": 15,
   "id": "c8efec0f-dd5e-4e20-b23a-c2da2f1b89f8",
   "metadata": {},
   "outputs": [],
   "source": [
    "# Frecuencia de Palabras Más Usadas\n",
    "from collections import Counter"
   ]
  },
  {
   "cell_type": "code",
   "execution_count": 19,
   "id": "570418ec-36ff-4047-82f4-17ae124bea96",
   "metadata": {},
   "outputs": [],
   "source": [
    "import nltk"
   ]
  },
  {
   "cell_type": "code",
   "execution_count": 21,
   "id": "17ae8f0f-bb43-4477-885f-e6041c582daf",
   "metadata": {},
   "outputs": [
    {
     "name": "stdout",
     "output_type": "stream",
     "text": [
      "3.9.1\n"
     ]
    }
   ],
   "source": [
    "print(nltk.__version__)"
   ]
  },
  {
   "cell_type": "code",
   "execution_count": 23,
   "id": "efedc8fc-4ea9-4793-a27b-af562875ea63",
   "metadata": {},
   "outputs": [],
   "source": [
    "from nltk.corpus import stopwords"
   ]
  },
  {
   "cell_type": "code",
   "execution_count": 25,
   "id": "f47f4801-6d35-4a46-b547-e6fe5a804f00",
   "metadata": {},
   "outputs": [
    {
     "name": "stderr",
     "output_type": "stream",
     "text": [
      "[nltk_data] Downloading package stopwords to\n",
      "[nltk_data]     C:\\Users\\Usuario\\AppData\\Roaming\\nltk_data...\n",
      "[nltk_data]   Package stopwords is already up-to-date!\n"
     ]
    },
    {
     "data": {
      "text/plain": [
       "True"
      ]
     },
     "execution_count": 25,
     "metadata": {},
     "output_type": "execute_result"
    }
   ],
   "source": [
    "nltk.download(\"stopwords\")"
   ]
  },
  {
   "cell_type": "code",
   "execution_count": 27,
   "id": "c232ae85-7090-44b5-86e4-3b1b6dcf2437",
   "metadata": {},
   "outputs": [
    {
     "name": "stdout",
     "output_type": "stream",
     "text": [
      "Palabras más frecuentes en Review Title:\n",
      "[('excellent', 9238), ('hotel', 7341), ('good', 6452), ('service', 3841), ('great', 2783), ('stay', 2397), ('location', 1779), ('experience', 1751), ('bogota', 1624), ('best', 1385), ('attention', 1341), ('nice', 1153), ('place', 1021), ('comfortable', 886), ('business', 875), ('option', 866), ('bogotá', 790), ('well', 769), ('hotel,', 745), ('staff', 741)]\n",
      "\n",
      "Palabras más frecuentes en Review Text:\n",
      "[('hotel', 32087), ('good', 22664), ('service', 13897), ('room', 13598), ('excellent', 12933), ('staff', 11936), ('rooms', 9556), ('breakfast', 9510), ('stay', 8535), ('great', 7631), ('well', 7049), ('would', 6908), ('attention', 6839), ('one', 6590), ('comfortable', 6504), ('location', 6397), ('food', 6354), ('restaurant', 6053), ('friendly', 5500), ('recommend', 5212)]\n"
     ]
    }
   ],
   "source": [
    "# Definir stopwords en inglés\n",
    "stop_words = set(stopwords.words(\"english\"))\n",
    "\n",
    "# Función para contar palabras en una columna específica\n",
    "def obtener_frecuencia_palabras(columna, n=20):\n",
    "    todas_las_palabras = \" \".join(df_final_reviews[columna].dropna()).lower().split()\n",
    "    palabras_filtradas = [word for word in todas_las_palabras if word not in stop_words and len(word) > 2]\n",
    "    return Counter(palabras_filtradas).most_common(n)\n",
    "\n",
    "# Palabras más frecuentes en los títulos de reseñas\n",
    "print(\"Palabras más frecuentes en Review Title:\")\n",
    "print(obtener_frecuencia_palabras(\"Review Title\"))\n",
    "\n",
    "# Palabras más frecuentes en los textos de reseñas\n",
    "print(\"\\nPalabras más frecuentes en Review Text:\")\n",
    "print(obtener_frecuencia_palabras(\"Review Text\"))"
   ]
  },
  {
   "cell_type": "code",
   "execution_count": 29,
   "id": "7165d680-a3bc-4599-92df-04fa6c9a0265",
   "metadata": {},
   "outputs": [
    {
     "name": "stdout",
     "output_type": "stream",
     "text": [
      "Error: No se pudo cargar NumPy 1.24.3. Verifica la instalación.\n",
      "Usando NumPy versión: 1.24.3\n"
     ]
    },
    {
     "name": "stderr",
     "output_type": "stream",
     "text": [
      "C:\\Users\\Usuario\\AppData\\Local\\Temp\\ipykernel_7136\\225106954.py:19: UserWarning: The NumPy module was reloaded (imported a second time). This can in some cases result in small but subtle issues and is discouraged.\n",
      "  import numpy as np  # Ahora importamos numpy normalmente\n"
     ]
    }
   ],
   "source": [
    "# asegurar que se carga la versión correcta de Numpy para evitar conflictos con Blis\n",
    "\n",
    "import sys\n",
    "import importlib\n",
    "\n",
    "# Elimina cualquier versión de numpy ya cargada en la sesión\n",
    "if 'numpy' in sys.modules:\n",
    "    del sys.modules['numpy']\n",
    "\n",
    "# Carga la versión específica de numpy compatible con Blis\n",
    "numpy_version = \"1.24.3\" \n",
    "\n",
    "try:\n",
    "    importlib.import_module(f\"numpy=={numpy_version}\")\n",
    "    print(f\"NumPy {numpy_version} cargado correctamente.\")\n",
    "except ImportError:\n",
    "    print(f\"Error: No se pudo cargar NumPy {numpy_version}. Verifica la instalación.\")\n",
    "\n",
    "import numpy as np  # Se importa numpy normalmente\n",
    "print(f\"Usando NumPy versión: {np.__version__}\")\n"
   ]
  },
  {
   "cell_type": "code",
   "execution_count": 31,
   "id": "00c5b37e-4d95-4677-a560-8f98b9310836",
   "metadata": {},
   "outputs": [
    {
     "name": "stdout",
     "output_type": "stream",
     "text": [
      "['__builtins__', '__cached__', '__doc__', '__file__', '__loader__', '__name__', '__package__', '__path__', '__spec__', 'cy', 'init']\n"
     ]
    }
   ],
   "source": [
    "import blis\n",
    "print(dir(blis))"
   ]
  },
  {
   "cell_type": "code",
   "execution_count": 33,
   "id": "8b1d7891-519f-4c3f-9ae0-e10e0bd35288",
   "metadata": {},
   "outputs": [
    {
     "name": "stdout",
     "output_type": "stream",
     "text": [
      "blis\n"
     ]
    }
   ],
   "source": [
    "import blis\n",
    "print(blis.__name__)"
   ]
  },
  {
   "cell_type": "code",
   "execution_count": 35,
   "id": "0b93b13e-d242-413e-ae65-a8d668bacdf5",
   "metadata": {},
   "outputs": [
    {
     "name": "stdout",
     "output_type": "stream",
     "text": [
      "<spacy.tokenizer.Tokenizer object at 0x0000027EB0EC2CB0>\n"
     ]
    }
   ],
   "source": [
    "#LEMMATIZACIÓN\n",
    "import spacy\n",
    "nlp = spacy.blank(\"en\")  # Cargar un modelo en blanco en inglés\n",
    "print(nlp.tokenizer)  # Debería mostrar un objeto Tokenizer sin errores"
   ]
  },
  {
   "cell_type": "code",
   "execution_count": 39,
   "id": "c498c3ab-5c74-4dc8-9b2f-1757deb78bbe",
   "metadata": {},
   "outputs": [],
   "source": [
    "import time"
   ]
  },
  {
   "cell_type": "code",
   "execution_count": 49,
   "id": "ff31bbb9-df46-4472-af08-fa3e80859d6d",
   "metadata": {},
   "outputs": [
    {
     "name": "stdout",
     "output_type": "stream",
     "text": [
      "Modelo cargado correctamente\n"
     ]
    }
   ],
   "source": [
    "# Cargar el modelo en inglés de spaCy\n",
    "nlp = spacy.load(\"en_core_web_sm\")\n",
    "print(\"Modelo cargado correctamente\")"
   ]
  },
  {
   "cell_type": "code",
   "execution_count": 51,
   "id": "db591984-d996-49ae-ac40-4498e33d95b9",
   "metadata": {},
   "outputs": [
    {
     "name": "stdout",
     "output_type": "stream",
     "text": [
      "Total de reseñas procesadas: 41056\n",
      "Tiempo total de procesamiento: 471.14 segundos\n",
      "Tiempo promedio por reseña: 0.0115 segundos\n"
     ]
    }
   ],
   "source": [
    "# Función para lematizar el texto: se procesa el texto de las reseñas en lotes. \n",
    "# Es más eficiente en el rendimiento en grandes volúmenes de datos.\n",
    "def lemmatize_texts(texts):\n",
    "    return [\" \".join([token.lemma_ for token in doc]) if not pd.isna(text) else text \n",
    "            for text, doc in zip(texts, nlp.pipe(texts, disable=[\"ner\", \"parser\"]))]\n",
    "\n",
    "# Medir tiempo de procesamiento\n",
    "start_time = time.time()\n",
    "# Aplicar la lematización a las columnas de texto\n",
    "df_final_reviews[\"Review Text Lemmatized\"] = lemmatize_texts(df_final_reviews[\"Review Text\"])\n",
    "\n",
    "# Calcular métricas de tiempo\n",
    "end_time = time.time()\n",
    "total_time = end_time - start_time\n",
    "num_reviews = len(df_final_reviews)\n",
    "avg_time_per_review = total_time / num_reviews if num_reviews > 0 else 0\n",
    "# Mostrar métricas\n",
    "print(f\"Total de reseñas procesadas: {num_reviews}\")\n",
    "print(f\"Tiempo total de procesamiento: {total_time:.2f} segundos\")\n",
    "print(f\"Tiempo promedio por reseña: {avg_time_per_review:.4f} segundos\")\n"
   ]
  },
  {
   "cell_type": "code",
   "execution_count": 53,
   "id": "371f7257-a16b-4a4e-84d3-edeb16ed93e8",
   "metadata": {},
   "outputs": [],
   "source": [
    "# Guardar el dataframe con las nuevas columnas lematizadas\n",
    "df_final_reviews.to_csv(\"lemmatized_reviews.csv\", index=False)"
   ]
  },
  {
   "cell_type": "code",
   "execution_count": 55,
   "id": "1f0d5de5-bd07-470a-9ec1-21c00fa8a51c",
   "metadata": {},
   "outputs": [
    {
     "name": "stdout",
     "output_type": "stream",
     "text": [
      "  Hotel_Name  Review Id User Location User Is Verified  Rating Published Date  \\\n",
      "0  100 luxry  979285756           NaN               No       4     2024-11-09   \n",
      "1  100 luxry  906758315           NaN               No       5     2023-07-30   \n",
      "2  100 luxry  906479966           NaN               No       5     2023-07-29   \n",
      "3  100 luxry  895423330           NaN               No       3     2023-06-16   \n",
      "4  100 luxry  890106560  Barranquilla               No       5     2023-05-12   \n",
      "\n",
      "  Language                                       Review Title  \\\n",
      "0       es  a great place to share a spectacular night wit...   \n",
      "1       es       incredible spanish dinner, super recommended   \n",
      "2       es                                  excellent service   \n",
      "3       es                        good hotel for short travel   \n",
      "4       es                                 super recommended.   \n",
      "\n",
      "                                         Review Text  \\\n",
      "0  a very comfortable place;spacious;clean.excell...   \n",
      "1  the room was decorated very beautiful from adm...   \n",
      "2  the bed is very comfortable;suitable for sleep...   \n",
      "3  the attention of all those who work at the hot...   \n",
      "4  spectacular attention.the first rooms.very com...   \n",
      "\n",
      "                              Review Text Lemmatized  \n",
      "0  a very comfortable place;spacious;clean.excell...  \n",
      "1  the room be decorate very beautiful from admis...  \n",
      "2  the bed be very comfortable;suitable for sleep...  \n",
      "3  the attention of all those who work at the hot...  \n",
      "4  spectacular attention.the first rooms.very com...  \n"
     ]
    }
   ],
   "source": [
    "# Verificar los resultados\n",
    "print(df_final_reviews.head())"
   ]
  },
  {
   "cell_type": "code",
   "execution_count": null,
   "id": "06a56632-50d2-4c67-98c3-69ca29f02d0a",
   "metadata": {},
   "outputs": [],
   "source": [
    "# Verificar los resultados\n",
    "# print(df_final_reviews.head())"
   ]
  }
 ],
 "metadata": {
  "kernelspec": {
   "display_name": "Python (sentiment_env)",
   "language": "python",
   "name": "sentiment_env"
  },
  "language_info": {
   "codemirror_mode": {
    "name": "ipython",
    "version": 3
   },
   "file_extension": ".py",
   "mimetype": "text/x-python",
   "name": "python",
   "nbconvert_exporter": "python",
   "pygments_lexer": "ipython3",
   "version": "3.11.11"
  }
 },
 "nbformat": 4,
 "nbformat_minor": 5
}
