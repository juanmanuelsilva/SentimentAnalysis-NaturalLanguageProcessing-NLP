{
 "cells": [
  {
   "cell_type": "code",
   "execution_count": 1,
   "id": "09a75a10-33a7-4b57-b95c-1ba54d48020e",
   "metadata": {},
   "outputs": [],
   "source": [
    "import os\n",
    "import pandas as pd"
   ]
  },
  {
   "cell_type": "code",
   "execution_count": 3,
   "id": "a06df7c6-bc5e-4875-a0e6-27004e922fa6",
   "metadata": {},
   "outputs": [
    {
     "name": "stdout",
     "output_type": "stream",
     "text": [
      "Unión completada. El archivo resultante se ha guardado como 'bogota_hotel_reviews.csv'.\n"
     ]
    }
   ],
   "source": [
    "# Define la ruta de la carpeta donde están los archivos CSV\n",
    "carpeta = \"data_reviews\" #\"ruta/a/la/carpeta\"\n",
    "\n",
    "# Obtiene la lista de todos los archivos CSV en la carpeta\n",
    "archivos_csv = [f for f in os.listdir(carpeta) if f.endswith('.csv')]\n",
    "\n",
    "# Crea una lista para almacenar los DataFrames\n",
    "dataframes = []\n",
    "\n",
    "# Itera sobre cada archivo, cárgalo y agrégalo a la lista\n",
    "for archivo in archivos_csv:\n",
    "    ruta_completa = os.path.join(carpeta, archivo)\n",
    "    df = pd.read_csv(ruta_completa)\n",
    "    dataframes.append(df)\n",
    "\n",
    "# Une todos los DataFrames en uno solo\n",
    "df_concatenado = pd.concat(dataframes, ignore_index=True)\n",
    "\n",
    "# Guarda el resultado en un nuevo archivo CSV\n",
    "df_concatenado.to_csv(\"bogota_hotel_reviews.csv\", index=False)\n",
    "\n",
    "print(\"Unión completada. El archivo resultante se ha guardado como 'bogota_hotel_reviews.csv'.\")"
   ]
  },
  {
   "cell_type": "code",
   "execution_count": 5,
   "id": "a46280f2-4948-44cc-8782-58766604547c",
   "metadata": {},
   "outputs": [],
   "source": [
    "import numpy as np\n",
    "import textwrap\n",
    "import nltk\n",
    "from nltk.corpus import stopwords\n",
    "from nltk import word_tokenize\n",
    "from nltk import WordNetLemmatizer, PorterStemmer\n",
    "from sklearn.feature_extraction.text import TfidfVectorizer\n",
    "from sklearn.metrics.pairwise import cosine_similarity"
   ]
  },
  {
   "cell_type": "code",
   "execution_count": 7,
   "id": "71eece9c-4997-45aa-8839-5d45ac21e4f5",
   "metadata": {},
   "outputs": [
    {
     "name": "stderr",
     "output_type": "stream",
     "text": [
      "[nltk_data] Downloading package punkt to\n",
      "[nltk_data]     C:\\Users\\Usuario\\AppData\\Roaming\\nltk_data...\n",
      "[nltk_data]   Package punkt is already up-to-date!\n",
      "[nltk_data] Downloading package stopwords to\n",
      "[nltk_data]     C:\\Users\\Usuario\\AppData\\Roaming\\nltk_data...\n",
      "[nltk_data]   Package stopwords is already up-to-date!\n"
     ]
    },
    {
     "data": {
      "text/plain": [
       "True"
      ]
     },
     "execution_count": 7,
     "metadata": {},
     "output_type": "execute_result"
    }
   ],
   "source": [
    "nltk.download('punkt')\n",
    "nltk.download('stopwords')"
   ]
  },
  {
   "cell_type": "code",
   "execution_count": null,
   "id": "8ac19ab5-d716-4c4c-89b0-5ea0b3f6f117",
   "metadata": {},
   "outputs": [],
   "source": [
    "df = pd.read_csv('bogota_hotel_reviews.csv', sep=';')"
   ]
  },
  {
   "cell_type": "code",
   "execution_count": null,
   "id": "341137aa-7525-4465-b819-f18898444d21",
   "metadata": {},
   "outputs": [],
   "source": []
  },
  {
   "cell_type": "code",
   "execution_count": null,
   "id": "98b033e3-88f0-4d9b-a690-a33f8c85cf30",
   "metadata": {},
   "outputs": [],
   "source": []
  },
  {
   "cell_type": "code",
   "execution_count": null,
   "id": "4cc06269-27f8-436e-9ab5-e85d0d5298e4",
   "metadata": {},
   "outputs": [],
   "source": []
  },
  {
   "cell_type": "code",
   "execution_count": null,
   "id": "0f8503c8-a428-4624-9e71-d516b51082e0",
   "metadata": {},
   "outputs": [],
   "source": []
  },
  {
   "cell_type": "code",
   "execution_count": null,
   "id": "8428ebc0-94e9-4451-8626-23e71c3dce83",
   "metadata": {},
   "outputs": [],
   "source": []
  },
  {
   "cell_type": "code",
   "execution_count": null,
   "id": "9e0ad76e-ea54-4e03-ba93-524e21f42f17",
   "metadata": {},
   "outputs": [],
   "source": []
  },
  {
   "cell_type": "code",
   "execution_count": null,
   "id": "ad81ee55-ae8e-491b-a052-4c124214a1c3",
   "metadata": {},
   "outputs": [],
   "source": []
  },
  {
   "cell_type": "code",
   "execution_count": null,
   "id": "82d43c9c-8793-487f-9bb8-66efbc8e212d",
   "metadata": {},
   "outputs": [],
   "source": []
  },
  {
   "cell_type": "code",
   "execution_count": null,
   "id": "4bb7d953-cf37-4232-ba11-4f8cc99e59eb",
   "metadata": {},
   "outputs": [],
   "source": []
  },
  {
   "cell_type": "code",
   "execution_count": null,
   "id": "5151be66-1efd-4f2a-ad5c-80331f3993ed",
   "metadata": {},
   "outputs": [],
   "source": []
  }
 ],
 "metadata": {
  "kernelspec": {
   "display_name": "Python 3 (ipykernel)",
   "language": "python",
   "name": "python3"
  },
  "language_info": {
   "codemirror_mode": {
    "name": "ipython",
    "version": 3
   },
   "file_extension": ".py",
   "mimetype": "text/x-python",
   "name": "python",
   "nbconvert_exporter": "python",
   "pygments_lexer": "ipython3",
   "version": "3.11.4"
  }
 },
 "nbformat": 4,
 "nbformat_minor": 5
}
