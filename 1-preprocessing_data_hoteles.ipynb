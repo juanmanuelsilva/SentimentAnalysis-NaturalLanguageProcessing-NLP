{
 "cells": [
  {
   "cell_type": "markdown",
   "id": "efa41480-1c8a-48a3-abaf-3b3c917a01df",
   "metadata": {},
   "source": [
    "# CURACION DE DE RESEÑAS. \n",
    "## ESTRUCTURA Y UNIFICACIÓN EN BASE DE DATOS CSV"
   ]
  },
  {
   "cell_type": "code",
   "execution_count": null,
   "id": "2a98ef69-b1b1-4619-9b3f-58d3fe174621",
   "metadata": {},
   "outputs": [],
   "source": [
    "\"\"\"\n",
    "import os\n",
    "import pandas as pd\n",
    "\n",
    "# Ruta de la carpeta que contiene los archivos CSV\n",
    "carpeta = \"data_reviews\"\n",
    "carpeta_corregidos = \"data_reviews/corregidos\"\n",
    "\n",
    "# Obtener la lista de archivos CSV en la carpeta\n",
    "archivos = [f for f in os.listdir(carpeta) if f.endswith(\".csv\")]\n",
    "\n",
    "# Procesar cada archivo\n",
    "for archivo in archivos:\n",
    "    ruta_archivo = os.path.join(carpeta, archivo)\n",
    "\n",
    "    # Obtener el nombre del hotel sin la extensión .csv\n",
    "    nombre_hotel = os.path.splitext(archivo)[0]\n",
    "\n",
    "    # Cargar el archivo CSV asegurando que las comillas dobles sean interpretadas correctamente\n",
    "    df = pd.read_csv(ruta_archivo, quotechar='\"', delimiter=\",\")\n",
    "\n",
    "    # Reemplazar comas por punto y coma en el campo \"Review_Text\"\n",
    "    if \"Review Text\" in df.columns:\n",
    "        df[\"Review Text\"] = df[\"Review Text\"].str.replace(\",\", \";\")\n",
    "\n",
    "    # Agregar la nueva columna al inicio con el nombre del hotel\n",
    "    df.insert(0, \"Hotel_Name\", nombre_hotel)\n",
    "\n",
    "    # Guardar el archivo corregido en la misma carpeta con un nuevo nombre\n",
    "    ruta_guardado = os.path.join(carpeta_corregidos, f\"corregido_{archivo}\")\n",
    "    df.to_csv(ruta_guardado, index=False, quotechar='\"')\n",
    "\n",
    "    print(f\"Procesado: {archivo} → Guardado como: corregido_{archivo}\")\n",
    "\n",
    "print(\"Todos los archivos han sido procesados correctamente.\")\n",
    "\n",
    "\"\"\"\n",
    "\n",
    "\n"
   ]
  },
  {
   "cell_type": "code",
   "execution_count": null,
   "id": "dc6f0514-4571-4cbf-b8cf-80821a4c82e6",
   "metadata": {},
   "outputs": [],
   "source": [
    "\"\"\"\n",
    "# Unir todos los archivos corregidos en uno solo para preprocesar\n",
    "\n",
    "# Define la ruta de la carpeta donde están los archivos CSV\n",
    "carpeta_corr = \"data_reviews/corregidos\" #\"ruta/a/la/carpeta\"\n",
    "\n",
    "# Obtiene la lista de todos los archivos CSV en la carpeta\n",
    "archivos_csv = [f for f in os.listdir(carpeta_corr) if f.endswith('.csv')]\n",
    "\n",
    "# Crea una lista para almacenar los DataFrames\n",
    "dataframes = []\n",
    "\n",
    "# Itera sobre cada archivo, cárgalo y agrégalo a la lista\n",
    "for archivo in archivos_csv:\n",
    "    ruta_completa = os.path.join(carpeta_corr, archivo)\n",
    "    df = pd.read_csv(ruta_completa)\n",
    "    dataframes.append(df)\n",
    "\n",
    "# Une todos los DataFrames en uno solo\n",
    "df_concatenado = pd.concat(dataframes, ignore_index=True)\n",
    "\n",
    "# Guarda el resultado en un nuevo archivo CSV\n",
    "df_concatenado.to_csv(\"bogota_hotel_reviews.csv\", index=False)\n",
    "\n",
    "print(\"Unión completada. El archivo resultante se ha guardado como 'bogota_hotel_reviews.csv'.\")\n",
    "\"\"\""
   ]
  },
  {
   "cell_type": "code",
   "execution_count": 1,
   "id": "98feb3b5-d881-4d15-91ad-7ebd84bd259e",
   "metadata": {},
   "outputs": [
    {
     "name": "stdout",
     "output_type": "stream",
     "text": [
      "Total de registros en la base: 47489\n"
     ]
    }
   ],
   "source": [
    "# Carga de data \n",
    "import os\n",
    "import pandas as pd\n",
    "\n",
    "# Cargar el archivo CSV\n",
    "df = pd.read_csv(\"bogota_hotel_reviews.csv\", quotechar='\"', delimiter=\",\")\n",
    "\n",
    "print(f\"Total de registros en la base: {df.shape[0]}\")"
   ]
  },
  {
   "cell_type": "code",
   "execution_count": 3,
   "id": "e5eb62be-8ee6-4496-8167-5e4291744231",
   "metadata": {},
   "outputs": [
    {
     "name": "stdout",
     "output_type": "stream",
     "text": [
      "Total de registros duplicados: 1846\n"
     ]
    }
   ],
   "source": [
    "#Detección de registros duplicados en la base de datos consolidada\n",
    "# Buscar registros duplicados en \"Review Id\"\n",
    "duplicados = df[df.duplicated(subset=[\"Review Id\"], keep=False)]\n",
    "\n",
    "print(f\"Total de registros duplicados: {df.duplicated(subset=['Review Id']).sum()}\")"
   ]
  },
  {
   "cell_type": "code",
   "execution_count": 5,
   "id": "d0bf8e0e-c51b-40ef-b47c-17f512ff7c05",
   "metadata": {},
   "outputs": [
    {
     "name": "stdout",
     "output_type": "stream",
     "text": [
      "     Hotel_Name  Review Id                                       Review Title   \n",
      "1121  93 luxury  863553796                               Wonderful experience  \\\n",
      "1122  93 luxury  863152586                                   Viaje en Familia   \n",
      "1123  93 luxury  862619053    The Hotel in Bogota with the service experience   \n",
      "1124  93 luxury  861551749  Excelente Aparthotel cerca del Parque 93 en Bo...   \n",
      "1125  93 luxury  860886543          What an amazing place and team of people!   \n",
      "1126  93 luxury  860634796                                          Grandioso   \n",
      "1127  93 luxury  860634542                                  Muy buen servicio   \n",
      "1128  93 luxury  860440986                                      1 month stay    \n",
      "1129  93 luxury  859152375                                 Coctel del Gerente   \n",
      "1130  93 luxury  858279660          Excelente sitio para compartir en familia   \n",
      "\n",
      "                                            Review Text  \n",
      "1121  We really enjoyed our short stay here. The sta...  \n",
      "1122  Muy buena atención; buen servicio; todo limpio...  \n",
      "1123  Great experience the best Hotel in Bogota bett...  \n",
      "1124  La atención personalizada es lo mejor; siempre...  \n",
      "1125  Where do I start?  Reservations-handled quickl...  \n",
      "1126  UN saludo muy especial a los muchas de la rece...  \n",
      "1127  Quiero de corazon agradecerles por toda la ate...  \n",
      "1128  A really good stay of 1 month before finding a...  \n",
      "1129  Excelente atención; excelente instalaciones; e...  \n",
      "1130  Excelente lugar para compartir en familia; nos...  \n"
     ]
    }
   ],
   "source": [
    "# Seleccionar solo las columnas requeridas y mostrar los primeros 10 registros duplicados\n",
    "columnas_interes = [\"Hotel_Name\", \"Review Id\", \"Review Title\", \"Review Text\"]\n",
    "print(duplicados.loc[:, columnas_interes].head(10))"
   ]
  },
  {
   "cell_type": "code",
   "execution_count": 7,
   "id": "85da78da-d534-4b5c-8fc3-75c78972e55c",
   "metadata": {},
   "outputs": [
    {
     "name": "stdout",
     "output_type": "stream",
     "text": [
      "                                 Hotel_Name  Cantidad_Review_Id_Duplicados\n",
      "0                                 93 luxury                             10\n",
      "1               Casa Dann Carlton Hotel Spa                             20\n",
      "2                               Click Clack                             40\n",
      "3      Courtyard By Marriott Bogota Airport                             10\n",
      "4   Double Tree By Hilton Bogota Salitre AR                            100\n",
      "5                         GHL Hotel Capital                            340\n",
      "6                      GHL Hotel Tequendama                             30\n",
      "7                        Grand Hyatt Bogota                            160\n",
      "8          Hilton Garden Inn Bogota Airport                             10\n",
      "9                           Hotel B3 Virrey                             50\n",
      "10                Hotel Dann Carlton Bogota                             30\n",
      "11                 Hotel Estelar La Fontana                             60\n",
      "12            Hotel Estelar Parque De La 93                             10\n",
      "13                     Hotel Habitel Select                            160\n",
      "14                      Hotel Vilar America                             10\n",
      "15                        Ibis Bogota Museo                             80\n",
      "16                          Lancaster House                             70\n",
      "17           NH Collection Bogota WTC Royal                             30\n",
      "18                 Novotel Bogota Parque 93                            190\n",
      "19                    Sheraton Bogota Hotel                            230\n",
      "20      Sofitel Bogota Victoria Regia Hotel                             62\n",
      "21                     Sonesta Hotel Bogota                             20\n",
      "22                      Stelar Suites Jones                             24\n",
      "23                                 W Bogota                             50\n"
     ]
    }
   ],
   "source": [
    "# Identificar la cantidad de \"Review Id\" duplicados agrupando por el campo \"Hotel Name\"\n",
    "\n",
    "# Contar cuántas veces aparece cada \"Review Id\"\n",
    "conteo_ids = df[\"Review Id\"].value_counts()\n",
    "\n",
    "# Filtrar solo los \"Review Id\" que aparecen más de una vez (duplicados reales)\n",
    "ids_duplicados = conteo_ids[conteo_ids > 1].index\n",
    "\n",
    "# Filtrar el DataFrame para obtener solo los registros con \"Review Id\" duplicados\n",
    "duplicados_reales = df[df[\"Review Id\"].isin(ids_duplicados)]\n",
    "\n",
    "# Contar la cantidad de \"Review Id\" duplicados por \"Hotel_Name\"\n",
    "conteo_por_hotel = duplicados_reales.groupby(\"Hotel_Name\")[\"Review Id\"].nunique().reset_index()\n",
    "\n",
    "# Renombrar la columna para mayor claridad\n",
    "conteo_por_hotel.columns = [\"Hotel_Name\", \"Cantidad_Review_Id_Duplicados\"]\n",
    "\n",
    "# Mostrar los resultados\n",
    "print(conteo_por_hotel)"
   ]
  },
  {
   "cell_type": "code",
   "execution_count": 9,
   "id": "9d3c7a1f-ce57-49f7-b84a-7a749e3a28d0",
   "metadata": {},
   "outputs": [],
   "source": [
    "# Eliminar duplicados manteniendo solamente la reseña inicial\n",
    "df_sin_duplicados = df.drop_duplicates(subset=[\"Review Id\"], keep=\"first\")"
   ]
  },
  {
   "cell_type": "code",
   "execution_count": 11,
   "id": "7605ce84-2a1e-4e5a-81a9-464c39a19ee7",
   "metadata": {},
   "outputs": [
    {
     "name": "stdout",
     "output_type": "stream",
     "text": [
      "Total de registros duplicados: 0\n"
     ]
    }
   ],
   "source": [
    "# Se verifica nuevamente la presencia de duplicados\n",
    "\n",
    "# Buscar registros duplicados en \"Review Id\"\n",
    "duplicados_df_sin = df_sin_duplicados[df_sin_duplicados.duplicated(subset=[\"Review Id\"], keep=False)]\n",
    "\n",
    "print(f\"Total de registros duplicados: {df_sin_duplicados.duplicated(subset=['Review Id']).sum()}\")"
   ]
  },
  {
   "cell_type": "code",
   "execution_count": 13,
   "id": "4675b025-791a-4900-a8ad-1026304f87eb",
   "metadata": {},
   "outputs": [
    {
     "name": "stdout",
     "output_type": "stream",
     "text": [
      "Cantidad de registros en df_sin_duplicados: 45643\n"
     ]
    }
   ],
   "source": [
    "print(f\"Cantidad de registros en df_sin_duplicados: {df_sin_duplicados.shape[0]}\")"
   ]
  },
  {
   "cell_type": "code",
   "execution_count": 15,
   "id": "07d02c47-8666-4561-b2ad-d048c9746dd4",
   "metadata": {},
   "outputs": [
    {
     "name": "stdout",
     "output_type": "stream",
     "text": [
      "  Hotel_Name  Review Id User Location User Is Verified  Rating   \n",
      "0  100 luxry  979285756           NaN               No       4  \\\n",
      "1  100 luxry  979242709           NaN               No       5   \n",
      "2  100 luxry  978660661           NaN               No       5   \n",
      "3  100 luxry  978071990        Bogota               No       5   \n",
      "4  100 luxry  976892350           NaN               No       5   \n",
      "\n",
      "                                        Review Title   \n",
      "0  Un gran lugar para compartir una noche especta...  \\\n",
      "1                                  Vale cada centavo   \n",
      "2                               Excellent experience   \n",
      "3                      Diamond Relax Plan, a delight   \n",
      "4                                        Couple plan   \n",
      "\n",
      "                                         Review Text Published Date Language  \n",
      "0  Un lugar muy confortable; espacioso; limpio. U...     2024-11-09       es  \n",
      "1  Ficamos aqui por que nosso voo da Avianca foi ...     2024-11-09       pt  \n",
      "2  I loved the design of the hotel and its facili...     2024-11-04       en  \n",
      "3  Beautiful hotel; spectacular room \\nand decora...     2024-10-30       en  \n",
      "4  EXCELLENT experience and delicious food too. T...     2024-10-27       en  \n"
     ]
    }
   ],
   "source": [
    "# Lista de columnas que queremos conservar\n",
    "columnas_interes = [\n",
    "    \"Hotel_Name\", \"Review Id\", \"User Location\", \"User Is Verified\", \n",
    "    \"Rating\", \"Review Title\", \"Review Text\", \n",
    "    \"Published Date\", \"Language\"\n",
    "]\n",
    "\n",
    "# Crear un nuevo DataFrame solo con esas columnas\n",
    "df_preprocesamiento = df_sin_duplicados[columnas_interes]\n",
    "\n",
    "# Mostrar las primeras filas para verificar\n",
    "print(df_preprocesamiento.head())"
   ]
  },
  {
   "cell_type": "code",
   "execution_count": 17,
   "id": "c3170714-e1ef-4838-8bbf-8236b752ecf3",
   "metadata": {},
   "outputs": [
    {
     "name": "stderr",
     "output_type": "stream",
     "text": [
      "C:\\Users\\Usuario\\AppData\\Local\\Temp\\ipykernel_3132\\4029784338.py:15: SettingWithCopyWarning: \n",
      "A value is trying to be set on a copy of a slice from a DataFrame.\n",
      "Try using .loc[row_indexer,col_indexer] = value instead\n",
      "\n",
      "See the caveats in the documentation: https://pandas.pydata.org/pandas-docs/stable/user_guide/indexing.html#returning-a-view-versus-a-copy\n",
      "  df_preprocesamiento[\"Hotel_Name\"] = df_preprocesamiento[\"Hotel_Name\"].apply(texto_a_minusculas)\n",
      "C:\\Users\\Usuario\\AppData\\Local\\Temp\\ipykernel_3132\\4029784338.py:16: SettingWithCopyWarning: \n",
      "A value is trying to be set on a copy of a slice from a DataFrame.\n",
      "Try using .loc[row_indexer,col_indexer] = value instead\n",
      "\n",
      "See the caveats in the documentation: https://pandas.pydata.org/pandas-docs/stable/user_guide/indexing.html#returning-a-view-versus-a-copy\n",
      "  df_preprocesamiento[\"Review Title\"] = df_preprocesamiento[\"Review Title\"].apply(texto_a_minusculas)\n"
     ]
    },
    {
     "name": "stdout",
     "output_type": "stream",
     "text": [
      "  Hotel_Name  Review Id User Location User Is Verified  Rating   \n",
      "0  100 luxry  979285756           NaN               No       4  \\\n",
      "1  100 luxry  979242709           NaN               No       5   \n",
      "2  100 luxry  978660661           NaN               No       5   \n",
      "3  100 luxry  978071990        Bogota               No       5   \n",
      "4  100 luxry  976892350           NaN               No       5   \n",
      "\n",
      "                                        Review Title   \n",
      "0  un gran lugar para compartir una noche especta...  \\\n",
      "1                                  vale cada centavo   \n",
      "2                               excellent experience   \n",
      "3                      diamond relax plan, a delight   \n",
      "4                                        couple plan   \n",
      "\n",
      "                                         Review Text Published Date Language  \n",
      "0  un lugar muy confortable; espacioso; limpio. u...     2024-11-09       es  \n",
      "1  ficamos aqui por que nosso voo da avianca foi ...     2024-11-09       pt  \n",
      "2  i loved the design of the hotel and its facili...     2024-11-04       en  \n",
      "3  beautiful hotel; spectacular room \\nand decora...     2024-10-30       en  \n",
      "4  excellent experience and delicious food too. t...     2024-10-27       en  \n"
     ]
    },
    {
     "name": "stderr",
     "output_type": "stream",
     "text": [
      "C:\\Users\\Usuario\\AppData\\Local\\Temp\\ipykernel_3132\\4029784338.py:17: SettingWithCopyWarning: \n",
      "A value is trying to be set on a copy of a slice from a DataFrame.\n",
      "Try using .loc[row_indexer,col_indexer] = value instead\n",
      "\n",
      "See the caveats in the documentation: https://pandas.pydata.org/pandas-docs/stable/user_guide/indexing.html#returning-a-view-versus-a-copy\n",
      "  df_preprocesamiento[\"Review Text\"] = df_preprocesamiento[\"Review Text\"].apply(texto_a_minusculas)\n",
      "C:\\Users\\Usuario\\AppData\\Local\\Temp\\ipykernel_3132\\4029784338.py:18: SettingWithCopyWarning: \n",
      "A value is trying to be set on a copy of a slice from a DataFrame.\n",
      "Try using .loc[row_indexer,col_indexer] = value instead\n",
      "\n",
      "See the caveats in the documentation: https://pandas.pydata.org/pandas-docs/stable/user_guide/indexing.html#returning-a-view-versus-a-copy\n",
      "  df_preprocesamiento[\"Language\"] = df_preprocesamiento[\"Language\"].apply(texto_a_minusculas)\n"
     ]
    }
   ],
   "source": [
    "# convertir texto a minúsculas\n",
    "import re\n",
    "\n",
    "# Función para convertir texto a minúsculas [y eliminar caracteres especiales]\n",
    "def texto_a_minusculas(texto):\n",
    "    # Asegurarse de que el valor sea una cadena de texto\n",
    "    if isinstance(texto, str):\n",
    "        # Convertir a minúsculas\n",
    "        texto = texto.lower()\n",
    "        # Eliminar caracteres especiales, manteniendo solo letras y números\n",
    "        # texto = re.sub(r'[^a-z0-9\\s]', '', texto)\n",
    "    return texto\n",
    "\n",
    "# Aplicar la función de limpieza a las columnas de texto\n",
    "df_preprocesamiento[\"Hotel_Name\"] = df_preprocesamiento[\"Hotel_Name\"].apply(texto_a_minusculas)\n",
    "df_preprocesamiento[\"Review Title\"] = df_preprocesamiento[\"Review Title\"].apply(texto_a_minusculas)\n",
    "df_preprocesamiento[\"Review Text\"] = df_preprocesamiento[\"Review Text\"].apply(texto_a_minusculas)\n",
    "df_preprocesamiento[\"Language\"] = df_preprocesamiento[\"Language\"].apply(texto_a_minusculas)\n",
    "\n",
    "# Verificar los resultados\n",
    "print(df_preprocesamiento.head())\n"
   ]
  },
  {
   "cell_type": "markdown",
   "id": "1d3913f0-805e-469e-ae07-783d4de7a656",
   "metadata": {},
   "source": [
    "# TRADUCCIÓN. \n",
    "## UNIFICAR RESEÑAS EN UN SOLO IDIOMA (INGLÉS)."
   ]
  },
  {
   "cell_type": "code",
   "execution_count": 19,
   "id": "faa06d6b-836b-4a13-a471-f4b7df1d4253",
   "metadata": {},
   "outputs": [
    {
     "data": {
      "text/plain": [
       "Language\n",
       "es      26317\n",
       "en      14739\n",
       "pt       3235\n",
       "fr        483\n",
       "it        335\n",
       "de        315\n",
       "nl         85\n",
       "ru         34\n",
       "ja         25\n",
       "zhcn       15\n",
       "sv         15\n",
       "zhtw        7\n",
       "da          6\n",
       "tr          6\n",
       "iw          5\n",
       "pl          5\n",
       "ko          4\n",
       "no          3\n",
       "fi          2\n",
       "cs          2\n",
       "in          1\n",
       "ar          1\n",
       "sr          1\n",
       "hu          1\n",
       "el          1\n",
       "Name: count, dtype: int64"
      ]
     },
     "execution_count": 19,
     "metadata": {},
     "output_type": "execute_result"
    }
   ],
   "source": [
    "# Análisis de Idiomas (Language)\n",
    "# Detallar los idiomas en que están escritas las reseñas y contar la cantidad de reseñas por idioma\n",
    "\n",
    "idiomas = df_preprocesamiento[\"Language\"].value_counts()\n",
    "idiomas"
   ]
  },
  {
   "cell_type": "code",
   "execution_count": 21,
   "id": "be5caeb1-260a-48f1-b588-4eaed79eb6dc",
   "metadata": {},
   "outputs": [
    {
     "name": "stdout",
     "output_type": "stream",
     "text": [
      "Cantidad de registros en df_idiomas_permitidos: 41056\n"
     ]
    }
   ],
   "source": [
    "# se traducen al inglés solamente los títulos y las reseñas en español. Se mantienen los titulos y reseñas en inglés\n",
    "\n",
    "# Lista de idiomas permitidos\n",
    "idiomas_permitidos = [\"es\", \"en\"]\n",
    "\n",
    "# Filtrar el dataframe para conservar solo los registros con los idiomas permitidos\n",
    "df_idiomas_permitidos = df_preprocesamiento[df_preprocesamiento[\"Language\"].isin(idiomas_permitidos)]\n",
    "print(f\"Cantidad de registros en df_idiomas_permitidos: {df_idiomas_permitidos.shape[0]}\")"
   ]
  },
  {
   "cell_type": "code",
   "execution_count": 23,
   "id": "b8d0a2f4-b154-4254-b8b2-d14b8191659b",
   "metadata": {},
   "outputs": [
    {
     "data": {
      "text/plain": [
       "Language\n",
       "es    26317\n",
       "en    14739\n",
       "Name: count, dtype: int64"
      ]
     },
     "execution_count": 23,
     "metadata": {},
     "output_type": "execute_result"
    }
   ],
   "source": [
    "# Volver a contar la cantidad de reseñas por idioma para validar que solo hayan reseñas de idiomas permitidos\n",
    "\n",
    "idiomas_filtrados = df_idiomas_permitidos[\"Language\"].value_counts()\n",
    "idiomas_filtrados"
   ]
  },
  {
   "cell_type": "code",
   "execution_count": null,
   "id": "33b156f1-b0c1-49e7-981a-95df04014a03",
   "metadata": {},
   "outputs": [],
   "source": [
    "# Traducción al inglés de las reseñas de los idiomas permitidos \"es\", \"en\", \"pt\", \"fr\", \"it\", \"de\"\n",
    "# Instalar las librerías necesarias\n",
    "# !pip install googletrans==4.0.0-rc1\n"
   ]
  },
  {
   "cell_type": "code",
   "execution_count": 29,
   "id": "4f4b51a1-e18f-49af-a510-c4e9e5c58320",
   "metadata": {},
   "outputs": [
    {
     "name": "stdout",
     "output_type": "stream",
     "text": [
      "Archivos CSV generados exitosamente.\n"
     ]
    }
   ],
   "source": [
    "# extraer las reseñas en español (Language == \"es\") del DataFrame df_idiomas_permitidos, \n",
    "# dividirlas en 10 partes y guardarlas en archivos CSV numerados del 1 al 10\n",
    "'''\n",
    "import pandas as pd\n",
    "import numpy as np\n",
    "\n",
    "# Filtrar solo las reseñas en español\n",
    "df_es = df_idiomas_permitidos[df_idiomas_permitidos[\"Language\"] == \"es\"].copy()\n",
    "\n",
    "# Determinar el tamaño de cada subconjunto\n",
    "num_parts = 10\n",
    "split_dfs = np.array_split(df_es, num_parts)  # Divide el DataFrame en 10 partes\n",
    "\n",
    "# Guardar cada parte en un archivo CSV separado\n",
    "for i, df_part in enumerate(split_dfs, start=1):\n",
    "    df_part.to_csv(f\"reviews_es_part_{i}.csv\", index=False, encoding=\"utf-8\")\n",
    "\n",
    "print(\"Archivos CSV generados exitosamente.\")\n",
    "'''"
   ]
  },
  {
   "cell_type": "code",
   "execution_count": 25,
   "id": "5229c19b-2acc-445c-9981-5e9d47d44d4e",
   "metadata": {},
   "outputs": [
    {
     "name": "stdout",
     "output_type": "stream",
     "text": [
      "Name: googletrans\n",
      "Version: 4.0.0rc1\n",
      "Summary: Free Google Translate API for Python. Translates totally free of charge.\n",
      "Home-page: https://github.com/ssut/py-googletrans\n",
      "Author: SuHun Han\n",
      "Author-email: ssut@ssut.me\n",
      "License: MIT\n",
      "Location: C:\\Users\\Usuario\\anaconda3\\Lib\\site-packages\n",
      "Requires: httpx\n",
      "Required-by: \n"
     ]
    }
   ],
   "source": [
    "!pip show googletrans"
   ]
  },
  {
   "cell_type": "code",
   "execution_count": null,
   "id": "36fa5c98-340d-4ad6-b9cc-25e06c52a38b",
   "metadata": {},
   "outputs": [],
   "source": [
    "# import sys\n",
    "# print(sys.version)\n",
    "#!pip install blis"
   ]
  },
  {
   "cell_type": "code",
   "execution_count": 31,
   "id": "545fee88-3fd2-48d8-bffd-af62da700df8",
   "metadata": {},
   "outputs": [],
   "source": [
    "# TRADUCIR RESEÑAS A INGLÉS\n",
    "# import pandas as pd\n",
    "from googletrans import Translator\n",
    "import time\n",
    "import os"
   ]
  },
  {
   "cell_type": "code",
   "execution_count": 37,
   "id": "48c6a958-4f2f-42ba-9887-b51f8f2939a5",
   "metadata": {},
   "outputs": [
    {
     "name": "stdout",
     "output_type": "stream",
     "text": [
      "Lote 0 - 500 guardado en translated_reviews\\translated_reviews_1.csv\n",
      "Lote 500 - 1000 guardado en translated_reviews\\translated_reviews_1.csv\n",
      "Error con Google Translate: the JSON object must be str, bytes or bytearray, not NoneType\n",
      "Error con Google Translate: the JSON object must be str, bytes or bytearray, not NoneType\n",
      "Error con Google Translate: the JSON object must be str, bytes or bytearray, not NoneType\n",
      "Error con Google Translate: the JSON object must be str, bytes or bytearray, not NoneType\n",
      "Lote 1000 - 1500 guardado en translated_reviews\\translated_reviews_1.csv\n",
      "Lote 1500 - 2000 guardado en translated_reviews\\translated_reviews_1.csv\n",
      "Lote 2000 - 2500 guardado en translated_reviews\\translated_reviews_1.csv\n",
      "Lote 2500 - 3000 guardado en translated_reviews\\translated_reviews_1.csv\n",
      "Lote 0 - 500 guardado en translated_reviews\\translated_reviews_2.csv\n",
      "Lote 500 - 1000 guardado en translated_reviews\\translated_reviews_2.csv\n",
      "Lote 1000 - 1500 guardado en translated_reviews\\translated_reviews_2.csv\n",
      "Lote 1500 - 2000 guardado en translated_reviews\\translated_reviews_2.csv\n",
      "Lote 2000 - 2500 guardado en translated_reviews\\translated_reviews_2.csv\n",
      "Lote 2500 - 3000 guardado en translated_reviews\\translated_reviews_2.csv\n",
      "Lote 0 - 500 guardado en translated_reviews\\translated_reviews_3.csv\n",
      "Error con Google Translate: the JSON object must be str, bytes or bytearray, not NoneType\n",
      "Lote 500 - 1000 guardado en translated_reviews\\translated_reviews_3.csv\n",
      "Lote 1000 - 1500 guardado en translated_reviews\\translated_reviews_3.csv\n",
      "Lote 1500 - 2000 guardado en translated_reviews\\translated_reviews_3.csv\n",
      "Lote 2000 - 2500 guardado en translated_reviews\\translated_reviews_3.csv\n",
      "Lote 2500 - 3000 guardado en translated_reviews\\translated_reviews_3.csv\n",
      "Lote 0 - 500 guardado en translated_reviews\\translated_reviews_4.csv\n",
      "Lote 500 - 1000 guardado en translated_reviews\\translated_reviews_4.csv\n",
      "Lote 1000 - 1500 guardado en translated_reviews\\translated_reviews_4.csv\n",
      "Error con Google Translate: sequence item 3: expected str instance, NoneType found\n",
      "Lote 1500 - 2000 guardado en translated_reviews\\translated_reviews_4.csv\n",
      "Lote 2000 - 2500 guardado en translated_reviews\\translated_reviews_4.csv\n",
      "Lote 2500 - 3000 guardado en translated_reviews\\translated_reviews_4.csv\n",
      "Lote 0 - 500 guardado en translated_reviews\\translated_reviews_5.csv\n",
      "Lote 500 - 1000 guardado en translated_reviews\\translated_reviews_5.csv\n",
      "Lote 1000 - 1500 guardado en translated_reviews\\translated_reviews_5.csv\n",
      "Lote 1500 - 2000 guardado en translated_reviews\\translated_reviews_5.csv\n",
      "Lote 2000 - 2500 guardado en translated_reviews\\translated_reviews_5.csv\n",
      "Lote 2500 - 3000 guardado en translated_reviews\\translated_reviews_5.csv\n",
      "Lote 0 - 500 guardado en translated_reviews\\translated_reviews_6.csv\n",
      "Lote 500 - 1000 guardado en translated_reviews\\translated_reviews_6.csv\n",
      "Lote 1000 - 1500 guardado en translated_reviews\\translated_reviews_6.csv\n",
      "Lote 1500 - 2000 guardado en translated_reviews\\translated_reviews_6.csv\n",
      "Lote 2000 - 2500 guardado en translated_reviews\\translated_reviews_6.csv\n",
      "Lote 2500 - 3000 guardado en translated_reviews\\translated_reviews_6.csv\n",
      "Lote 0 - 500 guardado en translated_reviews\\translated_reviews_7.csv\n",
      "Lote 500 - 1000 guardado en translated_reviews\\translated_reviews_7.csv\n",
      "Lote 1000 - 1500 guardado en translated_reviews\\translated_reviews_7.csv\n",
      "Lote 1500 - 2000 guardado en translated_reviews\\translated_reviews_7.csv\n",
      "Error con Google Translate: the JSON object must be str, bytes or bytearray, not NoneType\n",
      "Lote 2000 - 2500 guardado en translated_reviews\\translated_reviews_7.csv\n",
      "Lote 2500 - 3000 guardado en translated_reviews\\translated_reviews_7.csv\n",
      "Error con Google Translate: the JSON object must be str, bytes or bytearray, not NoneType\n",
      "Lote 0 - 500 guardado en translated_reviews\\translated_reviews_8.csv\n",
      "Lote 500 - 1000 guardado en translated_reviews\\translated_reviews_8.csv\n",
      "Lote 1000 - 1500 guardado en translated_reviews\\translated_reviews_8.csv\n",
      "Lote 1500 - 2000 guardado en translated_reviews\\translated_reviews_8.csv\n",
      "Lote 2000 - 2500 guardado en translated_reviews\\translated_reviews_8.csv\n",
      "Lote 2500 - 3000 guardado en translated_reviews\\translated_reviews_8.csv\n",
      "Lote 0 - 500 guardado en translated_reviews\\translated_reviews_9.csv\n",
      "Lote 500 - 1000 guardado en translated_reviews\\translated_reviews_9.csv\n",
      "Lote 1000 - 1500 guardado en translated_reviews\\translated_reviews_9.csv\n",
      "Lote 1500 - 2000 guardado en translated_reviews\\translated_reviews_9.csv\n",
      "Lote 2000 - 2500 guardado en translated_reviews\\translated_reviews_9.csv\n",
      "Lote 2500 - 3000 guardado en translated_reviews\\translated_reviews_9.csv\n",
      "Lote 0 - 500 guardado en translated_reviews\\translated_reviews_10.csv\n",
      "Lote 500 - 1000 guardado en translated_reviews\\translated_reviews_10.csv\n",
      "Lote 1000 - 1500 guardado en translated_reviews\\translated_reviews_10.csv\n",
      "Lote 1500 - 2000 guardado en translated_reviews\\translated_reviews_10.csv\n",
      "Lote 2000 - 2500 guardado en translated_reviews\\translated_reviews_10.csv\n",
      "Lote 2500 - 3000 guardado en translated_reviews\\translated_reviews_10.csv\n",
      "Proceso de traducción completado.\n"
     ]
    }
   ],
   "source": [
    "# Crear la carpeta para los archivos traducidos si no existe\n",
    "output_folder = \"translated_reviews\"\n",
    "os.makedirs(output_folder, exist_ok=True)\n",
    "\n",
    "# Inicializar el traductor de Google\n",
    "translator_google = Translator()\n",
    "\n",
    "# Función para traducir texto con Google Translate (es → en)\n",
    "def translate_google(text):\n",
    "    if pd.isna(text) or text.strip() == \"\":\n",
    "        return text  # Si el texto está vacío o es NaN, lo dejamos igual\n",
    "    try:\n",
    "        translated = translator_google.translate(text, src=\"es\", dest=\"en\").text\n",
    "        time.sleep(1)  # Reducir velocidad de solicitudes\n",
    "        return translated\n",
    "    except Exception as e:\n",
    "        print(f\"Error con Google Translate: {e}\")\n",
    "        return text  # En caso de error, devolver el texto original\n",
    "\n",
    "# Número de registros a procesar antes de guardar\n",
    "batch_size = 500\n",
    "\n",
    "# Procesar los 10 archivos generados previamente\n",
    "for i in range(1, 11):\n",
    "    file_name = f\"reviews_es_part_{i}.csv\"\n",
    "    \n",
    "    # Cargar el archivo CSV\n",
    "    df = pd.read_csv(file_name, encoding=\"utf-8\")\n",
    "\n",
    "    # Inicializar columnas de traducción\n",
    "    df[\"Translated_Title_Review\"] = \"\"\n",
    "    df[\"Translated_Text_Review\"] = \"\"\n",
    "\n",
    "    # Procesar en lotes de batch_size\n",
    "    for start in range(0, len(df), batch_size):\n",
    "        end = start + batch_size\n",
    "        batch = df.iloc[start:end].copy()\n",
    "\n",
    "        # Aplicar traducción\n",
    "        batch[\"Translated_Title_Review\"] = batch[\"Review Title\"].apply(translate_google)\n",
    "        batch[\"Translated_Text_Review\"] = batch[\"Review Text\"].apply(translate_google)\n",
    "\n",
    "        # Guardar progresivamente el archivo traducido\n",
    "        output_file = os.path.join(output_folder, f\"translated_reviews_{i}.csv\")\n",
    "\n",
    "        # Guardar en CSV (si es el primer batch, sobrescribir, si no, añadir)\n",
    "        batch.to_csv(output_file, mode=\"a\", index=False, encoding=\"utf-8\", header=(start == 0))\n",
    "\n",
    "        print(f\"Lote {start} - {end} guardado en {output_file}\")\n",
    "\n",
    "print(\"Proceso de traducción completado.\")\n"
   ]
  },
  {
   "cell_type": "code",
   "execution_count": 25,
   "id": "7bcc98f2-0ad5-4e44-bedb-3f58aebda8ac",
   "metadata": {
    "scrolled": true
   },
   "outputs": [
    {
     "name": "stdout",
     "output_type": "stream",
     "text": [
      "<class 'pandas.core.frame.DataFrame'>\n",
      "RangeIndex: 41056 entries, 0 to 41055\n",
      "Data columns (total 9 columns):\n",
      " #   Column            Non-Null Count  Dtype \n",
      "---  ------            --------------  ----- \n",
      " 0   Hotel_Name        41056 non-null  object\n",
      " 1   Review Id         41056 non-null  int64 \n",
      " 2   User Location     23151 non-null  object\n",
      " 3   User Is Verified  41056 non-null  object\n",
      " 4   Rating            41056 non-null  int64 \n",
      " 5   Published Date    41056 non-null  object\n",
      " 6   Language          41056 non-null  object\n",
      " 7   Review Title      41047 non-null  object\n",
      " 8   Review Text       41056 non-null  object\n",
      "dtypes: int64(2), object(7)\n",
      "memory usage: 2.8+ MB\n",
      "None\n"
     ]
    }
   ],
   "source": [
    "#Unir las reseñas traducidas de español a inglés con las reseñas en inglés en un nuevo dataframe\n",
    "\n",
    "import pandas as pd\n",
    "import os\n",
    "\n",
    "# Crear un dataframe vacío para almacenar las traducciones\n",
    "df_translated = pd.DataFrame()\n",
    "\n",
    "# Ruta donde están almacenados los archivos traducidos\n",
    "translated_folder = \"translated_reviews\"\n",
    "\n",
    "# Cargar los 10 archivos en df_translated\n",
    "for i in range(1, 11):\n",
    "    file_path = os.path.join(translated_folder, f\"translated_reviews_{i}.csv\")\n",
    "    temp_df = pd.read_csv(file_path)\n",
    "    \n",
    "    # Eliminar columnas originales\n",
    "    temp_df.drop(columns=[\"Review Title\", \"Review Text\"], inplace=True)\n",
    "    \n",
    "    # Renombrar columnas traducidas\n",
    "    temp_df.rename(columns={\n",
    "        \"Translated_Title_Review\": \"Review Title\",\n",
    "        \"Translated_Text_Review\": \"Review Text\"\n",
    "    }, inplace=True)\n",
    "    \n",
    "    # Concatenar al dataframe final\n",
    "    df_translated = pd.concat([df_translated, temp_df], ignore_index=True)\n",
    "\n",
    "# Extraer reseñas en inglés desde df_idiomas_permitidos\n",
    "df_en_reviews = df_idiomas_permitidos[df_idiomas_permitidos[\"Language\"] == \"en\"].copy()\n",
    "\n",
    "# Combinar ambos dataframes en uno solo\n",
    "df_final_reviews = pd.concat([df_translated, df_en_reviews], ignore_index=True)\n",
    "\n",
    "# Mostrar información del dataframe final\n",
    "print(df_final_reviews.info())\n"
   ]
  },
  {
   "cell_type": "code",
   "execution_count": 27,
   "id": "a3d4b3b9-9137-4c79-a867-580ba6b591f5",
   "metadata": {
    "scrolled": true
   },
   "outputs": [
    {
     "name": "stdout",
     "output_type": "stream",
     "text": [
      "  Hotel_Name  Review Id User Location User Is Verified  Rating Published Date   \n",
      "0  100 luxry  979285756           NaN               No       4     2024-11-09  \\\n",
      "1  100 luxry  906758315           NaN               No       5     2023-07-30   \n",
      "2  100 luxry  906479966           NaN               No       5     2023-07-29   \n",
      "3  100 luxry  895423330           NaN               No       3     2023-06-16   \n",
      "4  100 luxry  890106560  Barranquilla               No       5     2023-05-12   \n",
      "\n",
      "  Language                                       Review Title   \n",
      "0       es  A great place to share a spectacular night wit...  \\\n",
      "1       es       Incredible Spanish dinner, super recommended   \n",
      "2       es                                  Excellent service   \n",
      "3       es                        Good Hotel for Short Travel   \n",
      "4       es                                 Super recommended.   \n",
      "\n",
      "                                         Review Text  \n",
      "0  a very comfortable place;spacious;clean.Excell...  \n",
      "1  The room was decorated very beautiful from adm...  \n",
      "2  The bed is very comfortable;suitable for sleep...  \n",
      "3  The attention of all those who work at the hot...  \n",
      "4  spectacular attention.The first rooms.very com...  \n"
     ]
    }
   ],
   "source": [
    "print(df_final_reviews.head())"
   ]
  },
  {
   "cell_type": "code",
   "execution_count": 1,
   "id": "3cebd556-48a4-4369-9663-550f88c3b22b",
   "metadata": {},
   "outputs": [
    {
     "name": "stdout",
     "output_type": "stream",
     "text": [
      "Total de registros en la base: 41056\n"
     ]
    }
   ],
   "source": [
    "################ REINICIAR AQUI ###################\n",
    "import os\n",
    "import pandas as pd\n",
    "\n",
    "# Cargar el archivo CSV\n",
    "df_final_reviews = pd.read_csv(\"final_reviews.csv\", quotechar='\"', delimiter=\",\")\n",
    "\n",
    "print(f\"Total de registros en la base: {df_final_reviews.shape[0]}\")"
   ]
  },
  {
   "cell_type": "code",
   "execution_count": 2,
   "id": "42f978b1-3473-45ec-a312-a54ec0fda872",
   "metadata": {},
   "outputs": [
    {
     "name": "stdout",
     "output_type": "stream",
     "text": [
      "  Hotel_Name  Review Id User Location User Is Verified  Rating Published Date  \\\n",
      "0  100 luxry  979285756           NaN               No       4     2024-11-09   \n",
      "1  100 luxry  906758315           NaN               No       5     2023-07-30   \n",
      "2  100 luxry  906479966           NaN               No       5     2023-07-29   \n",
      "3  100 luxry  895423330           NaN               No       3     2023-06-16   \n",
      "4  100 luxry  890106560  Barranquilla               No       5     2023-05-12   \n",
      "\n",
      "  Language                                       Review Title  \\\n",
      "0       es  A great place to share a spectacular night wit...   \n",
      "1       es       Incredible Spanish dinner, super recommended   \n",
      "2       es                                  Excellent service   \n",
      "3       es                        Good Hotel for Short Travel   \n",
      "4       es                                 Super recommended.   \n",
      "\n",
      "                                         Review Text  \n",
      "0  a very comfortable place;spacious;clean.Excell...  \n",
      "1  The room was decorated very beautiful from adm...  \n",
      "2  The bed is very comfortable;suitable for sleep...  \n",
      "3  The attention of all those who work at the hot...  \n",
      "4  spectacular attention.The first rooms.very com...  \n"
     ]
    }
   ],
   "source": [
    "print(df_final_reviews.head())"
   ]
  },
  {
   "cell_type": "code",
   "execution_count": 3,
   "id": "da312159-be07-4521-a123-a3012a70d6ef",
   "metadata": {},
   "outputs": [
    {
     "name": "stdout",
     "output_type": "stream",
     "text": [
      "  Hotel_Name  Review Id User Location User Is Verified  Rating Published Date  \\\n",
      "0  100 luxry  979285756           NaN               No       4     2024-11-09   \n",
      "1  100 luxry  906758315           NaN               No       5     2023-07-30   \n",
      "2  100 luxry  906479966           NaN               No       5     2023-07-29   \n",
      "3  100 luxry  895423330           NaN               No       3     2023-06-16   \n",
      "4  100 luxry  890106560  Barranquilla               No       5     2023-05-12   \n",
      "\n",
      "  Language                                       Review Title  \\\n",
      "0       es  a great place to share a spectacular night wit...   \n",
      "1       es       incredible spanish dinner, super recommended   \n",
      "2       es                                  excellent service   \n",
      "3       es                        good hotel for short travel   \n",
      "4       es                                 super recommended.   \n",
      "\n",
      "                                         Review Text  \n",
      "0  a very comfortable place;spacious;clean.excell...  \n",
      "1  the room was decorated very beautiful from adm...  \n",
      "2  the bed is very comfortable;suitable for sleep...  \n",
      "3  the attention of all those who work at the hot...  \n",
      "4  spectacular attention.the first rooms.very com...  \n"
     ]
    }
   ],
   "source": [
    "# convertir texto a minúsculas\n",
    "import re\n",
    "\n",
    "# Función para convertir texto a minúsculas [y eliminar caracteres especiales]\n",
    "def texto_a_minusculas(texto):\n",
    "    # Asegurarse de que el valor sea una cadena de texto\n",
    "    if isinstance(texto, str):\n",
    "        # Convertir a minúsculas\n",
    "        texto = texto.lower()\n",
    "        # Eliminar caracteres especiales, manteniendo solo letras y números\n",
    "        # texto = re.sub(r'[^a-z0-9\\s]', '', texto)\n",
    "    return texto\n",
    "\n",
    "# Aplicar la función de texto_a_minusculas a las columnas de texto\n",
    "df_final_reviews[\"Hotel_Name\"] = df_final_reviews[\"Hotel_Name\"].apply(texto_a_minusculas)\n",
    "df_final_reviews[\"Review Title\"] = df_final_reviews[\"Review Title\"].apply(texto_a_minusculas)\n",
    "df_final_reviews[\"Review Text\"] = df_final_reviews[\"Review Text\"].apply(texto_a_minusculas)\n",
    "df_final_reviews[\"Language\"] = df_final_reviews[\"Language\"].apply(texto_a_minusculas)\n",
    "\n",
    "# Verificar los resultados\n",
    "print(df_final_reviews.head())"
   ]
  },
  {
   "cell_type": "markdown",
   "id": "5e1dc904-66c2-48e1-b7b8-823d09977d2c",
   "metadata": {},
   "source": [
    "# ANALISIS DESCRIPTIVO"
   ]
  },
  {
   "cell_type": "code",
   "execution_count": 4,
   "id": "140ab98d-af02-480d-ba34-a92f95f35600",
   "metadata": {},
   "outputs": [
    {
     "name": "stdout",
     "output_type": "stream",
     "text": [
      "<class 'pandas.core.frame.DataFrame'>\n",
      "RangeIndex: 41056 entries, 0 to 41055\n",
      "Data columns (total 9 columns):\n",
      " #   Column            Non-Null Count  Dtype \n",
      "---  ------            --------------  ----- \n",
      " 0   Hotel_Name        41056 non-null  object\n",
      " 1   Review Id         41056 non-null  int64 \n",
      " 2   User Location     23151 non-null  object\n",
      " 3   User Is Verified  41056 non-null  object\n",
      " 4   Rating            41056 non-null  int64 \n",
      " 5   Published Date    41056 non-null  object\n",
      " 6   Language          41056 non-null  object\n",
      " 7   Review Title      41047 non-null  object\n",
      " 8   Review Text       41056 non-null  object\n",
      "dtypes: int64(2), object(7)\n",
      "memory usage: 2.8+ MB\n",
      "None\n"
     ]
    }
   ],
   "source": [
    "# Verificar información general del DataFrame\n",
    "print(df_final_reviews.info())"
   ]
  },
  {
   "cell_type": "code",
   "execution_count": 5,
   "id": "b0340100-dc5c-461b-b029-f6f6b9ce1622",
   "metadata": {},
   "outputs": [
    {
     "name": "stdout",
     "output_type": "stream",
     "text": [
      "Hotel_Name              0\n",
      "Review Id               0\n",
      "User Location       17905\n",
      "User Is Verified        0\n",
      "Rating                  0\n",
      "Published Date          0\n",
      "Language                0\n",
      "Review Title            9\n",
      "Review Text             0\n",
      "dtype: int64\n"
     ]
    }
   ],
   "source": [
    "# Revisar valores nulos\n",
    "print(df_final_reviews.isnull().sum())"
   ]
  },
  {
   "cell_type": "code",
   "execution_count": 6,
   "id": "9863a928-1f80-4356-abe8-be3bd967bef0",
   "metadata": {},
   "outputs": [
    {
     "name": "stdout",
     "output_type": "stream",
     "text": [
      "count    41056.000000\n",
      "mean         4.431118\n",
      "std          0.948346\n",
      "min          1.000000\n",
      "25%          4.000000\n",
      "50%          5.000000\n",
      "75%          5.000000\n",
      "max          5.000000\n",
      "Name: Rating, dtype: float64\n"
     ]
    }
   ],
   "source": [
    "# Descripción General del Dataset\n",
    "\n",
    "# Resumen estadístico de los datos numéricos\n",
    "print(df_final_reviews['Rating'].describe())"
   ]
  },
  {
   "cell_type": "code",
   "execution_count": 7,
   "id": "642742e7-4da4-4832-96e5-e88a220f2657",
   "metadata": {},
   "outputs": [
    {
     "name": "stdout",
     "output_type": "stream",
     "text": [
      "               Hotel_Name User Location User Is Verified Published Date  \\\n",
      "count               41056         23151            41056          41056   \n",
      "unique                 49          2951                2           5051   \n",
      "top     ghl hotel capital        Bogota               No     2019-09-23   \n",
      "freq                 2599          3068            41055             42   \n",
      "\n",
      "       Language Review Title  \\\n",
      "count     41056        41047   \n",
      "unique        2        24287   \n",
      "top          es    excellent   \n",
      "freq      26317         1724   \n",
      "\n",
      "                                              Review Text  \n",
      "count                                               41056  \n",
      "unique                                              41050  \n",
      "top     i come to bogota maybe twice a year for busine...  \n",
      "freq                                                    2  \n"
     ]
    }
   ],
   "source": [
    "# Resumen de los datos categóricos (columnas de texto)\n",
    "print(df_final_reviews.describe(include=['O'])) "
   ]
  },
  {
   "cell_type": "code",
   "execution_count": 8,
   "id": "69ada88f-5e03-485a-97f4-de35ffabd117",
   "metadata": {},
   "outputs": [
    {
     "data": {
      "image/png": "[encoded data removed]",
      "text/plain": [
       "<Figure size 800x500 with 1 Axes>"
      ]
     },
     "metadata": {},
     "output_type": "display_data"
    }
   ],
   "source": [
    "# Análisis de Calificaciones (Rating)\n",
    "import seaborn as sns\n",
    "import matplotlib.pyplot as plt\n",
    "# Distribución de ratings\n",
    "plt.figure(figsize=(8,5))\n",
    "sns.histplot(df_final_reviews[\"Rating\"], bins=5, kde=True, color=\"blue\")\n",
    "plt.xlabel(\"Calificación (Rating)\")\n",
    "plt.ylabel(\"Frecuencia\")\n",
    "plt.title(\"Distribución de Calificaciones de Hoteles\")\n",
    "plt.show()"
   ]
  },
  {
   "cell_type": "code",
   "execution_count": 9,
   "id": "939efdf8-951a-47c6-a505-f29d859e624f",
   "metadata": {},
   "outputs": [
    {
     "data": {
      "image/png": "[encoded data removed]",
      "text/plain": [
       "<Figure size 1000x500 with 1 Axes>"
      ]
     },
     "metadata": {},
     "output_type": "display_data"
    }
   ],
   "source": [
    "# Análisis de la Longitud de las Reseñas\n",
    "# Crear una nueva columna con la cantidad de palabras por reseña\n",
    "df_final_reviews[\"Review_Length\"] = df_final_reviews[\"Review Text\"].astype(str).apply(lambda x: len(x.split()))\n",
    "\n",
    "# Graficar la distribución de la longitud de las reseñas\n",
    "plt.figure(figsize=(10,5))\n",
    "sns.histplot(df_final_reviews[\"Review_Length\"], bins=30, kde=True, color=\"green\")\n",
    "plt.xlabel(\"Cantidad de Palabras en la Reseña\")\n",
    "plt.ylabel(\"Frecuencia\")\n",
    "plt.title(\"Distribución de la Longitud de las Reseñas\")\n",
    "plt.show()\n"
   ]
  },
  {
   "cell_type": "code",
   "execution_count": 11,
   "id": "15f8c11d-ba85-4435-94f4-506ac57d8f95",
   "metadata": {},
   "outputs": [
    {
     "name": "stdout",
     "output_type": "stream",
     "text": [
      "  Rango de palabras  Cantidad de reseñas  % acumulado\n",
      "0              1-50                25633    62.434236\n",
      "1            51-100                 9887    86.515978\n",
      "2           101-150                 2795    93.323753\n",
      "3           151-200                 1225    96.307482\n",
      "4              201+                 1516   100.000000\n"
     ]
    }
   ],
   "source": [
    "# Calcular y mostrar la tabla de distribución de cantidad de palabras por reseña\n",
    "\n",
    "# Conteo de palabras en la columna Review Text\n",
    "df_final_reviews['Word_Count'] = df_final_reviews['Review Text'].astype(str).apply(lambda x: len(x.split()))\n",
    "\n",
    "# Definir los rangos de palabras\n",
    "bins = [0, 50, 100, 150, 200, float('inf')]\n",
    "labels = ['1-50', '51-100', '101-150', '151-200', '201+']\n",
    "\n",
    "# Crear columna con la categoría de longitud de reseña\n",
    "df_final_reviews['Word_Range'] = pd.cut(df_final_reviews['Word_Count'], bins=bins, labels=labels, right=True)\n",
    "\n",
    "# Contar cuántas reseñas caen en cada rango\n",
    "conteo_rangos = df_final_reviews['Word_Range'].value_counts().sort_index()\n",
    "\n",
    "# Calcular porcentaje acumulado (para efecto Pareto)\n",
    "conteo_df = conteo_rangos.reset_index()\n",
    "conteo_df.columns = ['Rango de palabras', 'Cantidad de reseñas']\n",
    "conteo_df['% acumulado'] = conteo_df['Cantidad de reseñas'].cumsum() / conteo_df['Cantidad de reseñas'].sum() * 100\n",
    "\n",
    "# Mostrar la tabla\n",
    "print(conteo_df)\n"
   ]
  },
  {
   "cell_type": "code",
   "execution_count": 7,
   "id": "64521c90-3550-4d5d-81f3-952a4b78dccd",
   "metadata": {},
   "outputs": [
    {
     "name": "stderr",
     "output_type": "stream",
     "text": [
      "[nltk_data] Downloading package stopwords to\n",
      "[nltk_data]     C:\\Users\\Usuario\\AppData\\Roaming\\nltk_data...\n",
      "[nltk_data]   Package stopwords is already up-to-date!\n"
     ]
    },
    {
     "name": "stdout",
     "output_type": "stream",
     "text": [
      "Palabras más frecuentes en Review Title:\n",
      "[('excellent', 9238), ('hotel', 7341), ('good', 6452), ('service', 3841), ('great', 2783), ('stay', 2397), ('location', 1779), ('experience', 1751), ('bogota', 1624), ('best', 1385), ('attention', 1341), ('nice', 1153), ('place', 1021), ('comfortable', 886), ('business', 875), ('option', 866), ('bogotá', 790), ('well', 769), ('hotel,', 745), ('staff', 741)]\n",
      "\n",
      "Palabras más frecuentes en Review Text:\n",
      "[('hotel', 32087), ('good', 22664), ('service', 13897), ('room', 13598), ('excellent', 12933), ('staff', 11936), ('rooms', 9556), ('breakfast', 9510), ('stay', 8535), ('great', 7631), ('well', 7049), ('would', 6908), ('attention', 6839), ('one', 6590), ('comfortable', 6504), ('location', 6397), ('food', 6354), ('restaurant', 6053), ('friendly', 5500), ('recommend', 5212)]\n"
     ]
    }
   ],
   "source": [
    "# Frecuencia de Palabras Más Usadas\n",
    "from collections import Counter\n",
    "import nltk\n",
    "from nltk.corpus import stopwords\n",
    "nltk.download(\"stopwords\")\n",
    "\n",
    "# Definir stopwords en inglés\n",
    "stop_words = set(stopwords.words(\"english\"))\n",
    "\n",
    "# Función para contar palabras en una columna específica\n",
    "def obtener_frecuencia_palabras(columna, n=20):\n",
    "    todas_las_palabras = \" \".join(df_final_reviews[columna].dropna()).lower().split()\n",
    "    palabras_filtradas = [word for word in todas_las_palabras if word not in stop_words and len(word) > 2]\n",
    "    return Counter(palabras_filtradas).most_common(n)\n",
    "\n",
    "# Palabras más frecuentes en los títulos de reseñas\n",
    "print(\"Palabras más frecuentes en Review Title:\")\n",
    "print(obtener_frecuencia_palabras(\"Review Title\"))\n",
    "\n",
    "# Palabras más frecuentes en los textos de reseñas\n",
    "print(\"\\nPalabras más frecuentes en Review Text:\")\n",
    "print(obtener_frecuencia_palabras(\"Review Text\"))\n"
   ]
  },
  {
   "cell_type": "code",
   "execution_count": 25,
   "id": "dbbb6584-a009-47e2-bc4e-62b7c17bc1a0",
   "metadata": {},
   "outputs": [
    {
     "data": {
      "image/png": "[encoded data removed]",
      "text/plain": [
       "<Figure size 1200x500 with 1 Axes>"
      ]
     },
     "metadata": {},
     "output_type": "display_data"
    }
   ],
   "source": [
    "\n"
   ]
  },
  {
   "cell_type": "code",
   "execution_count": null,
   "id": "626efe2f-12b3-4d44-81bd-6ef444d7ef67",
   "metadata": {},
   "outputs": [],
   "source": []
  }
 ],
 "metadata": {
  "kernelspec": {
   "display_name": "Python 3 (ipykernel)",
   "language": "python",
   "name": "python3"
  },
  "language_info": {
   "codemirror_mode": {
    "name": "ipython",
    "version": 3
   },
   "file_extension": ".py",
   "mimetype": "text/x-python",
   "name": "python",
   "nbconvert_exporter": "python",
   "pygments_lexer": "ipython3",
   "version": "3.11.11"
  }
 },
 "nbformat": 4,
 "nbformat_minor": 5
}
